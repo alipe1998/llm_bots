{
 "cells": [
  {
   "cell_type": "markdown",
   "metadata": {},
   "source": [
    "## Importing Models from AWS Bedrock\n",
    "\n",
    "This notebook walks you through how to import different foundational models from AWS Bedrock"
   ]
  },
  {
   "cell_type": "code",
   "execution_count": 1,
   "metadata": {},
   "outputs": [],
   "source": [
    "# Use the Converse API to send a text message to Llama 2 Chat 70B.\n",
    "\n",
    "import boto3\n",
    "from botocore.exceptions import ClientError\n",
    "\n",
    "# Create a Bedrock Runtime client in the AWS Region you want to use.\n",
    "client = boto3.client(\"bedrock-runtime\", region_name=\"us-east-1\")"
   ]
  },
  {
   "cell_type": "markdown",
   "metadata": {},
   "source": [
    "**Invoke the llama3 70b Model**"
   ]
  },
  {
   "cell_type": "code",
   "execution_count": 2,
   "metadata": {},
   "outputs": [
    {
     "name": "stdout",
     "output_type": "stream",
     "text": [
      "\n",
      "\n",
      "That's an easy one! The capital of Texas is Austin, ya know.\n"
     ]
    }
   ],
   "source": [
    "# Set the model ID\n",
    "model_id = \"meta.llama3-70b-instruct-v1:0\"\n",
    "\n",
    "system_prompt = [{\"text\": \"You a helpful assistant who finishes all messages with the phrase: ya know.\"}]\n",
    "# Start a conversation with the user message.\n",
    "user_message = \"What is the capital of Texas\"\n",
    "conversation = [\n",
    "    {\n",
    "        \"role\": \"user\",\n",
    "        \"content\": [{\"text\": user_message}],\n",
    "    }\n",
    "]\n",
    "\n",
    "try:\n",
    "    # Send the message to the model, using a basic inference configuration.\n",
    "    response = client.converse(\n",
    "        modelId=model_id, # \"meta.llama2-70b-chat-v1\",\n",
    "        messages=conversation,\n",
    "        system=system_prompt,\n",
    "        inferenceConfig={\"maxTokens\":512,\"temperature\":0.5,\"topP\":0.9},\n",
    "        additionalModelRequestFields={}\n",
    "    )\n",
    "\n",
    "    # Extract and print the response text.\n",
    "    response_text = response[\"output\"][\"message\"][\"content\"][0][\"text\"]\n",
    "    print(response_text)\n",
    "\n",
    "except (ClientError, Exception) as e:\n",
    "    print(f\"ERROR: Can't invoke '{model_id}'. Reason: {e}\")\n",
    "    exit(1)"
   ]
  },
  {
   "cell_type": "markdown",
   "metadata": {},
   "source": [
    "## Testing the Class implementation of Llama Model 3.1"
   ]
  },
  {
   "cell_type": "code",
   "execution_count": 1,
   "metadata": {},
   "outputs": [],
   "source": [
    "from pathlib import Path\n",
    "import sys\n",
    "\n",
    "ROOT_DIR = Path.cwd().parent\n",
    "sys.path.append(str(ROOT_DIR))\n",
    "\n",
    "from src.aws_bedrock_models import BedrockCompletions"
   ]
  },
  {
   "cell_type": "code",
   "execution_count": 2,
   "metadata": {},
   "outputs": [],
   "source": [
    "model_id = \"meta.llama3-70b-instruct-v1:0\"\n",
    "state_filename = \"llama3_completions_state.json\"\n",
    "system_prompt = 'You are a helpful assistant that ends response with the phrase: eh'\n",
    "\n",
    "llama3 = BedrockCompletions(system_prompt=system_prompt, model=model_id, state_file=state_filename)"
   ]
  },
  {
   "cell_type": "code",
   "execution_count": 3,
   "metadata": {},
   "outputs": [],
   "source": [
    "response = llama3.send_message('Tell me more about the second idea?')"
   ]
  },
  {
   "cell_type": "code",
   "execution_count": 7,
   "metadata": {},
   "outputs": [
    {
     "data": {
      "text/plain": [
       "\"\\n\\nThe 6th Street Entertainment District, eh! It's a world-famous destination for nightlife, live music, and good times. Here's what you can expect:\\n\\n**Live Music Venues**: 6th Street is home to over 200 live music venues, ranging from intimate bars to large concert halls. You'll find everything from rock, indie, and country to jazz, blues, and electronic music.\\n\\n**Bars and Clubs**: From dive bars to upscale cocktail lounges, 6th Street has a watering hole to suit every taste. You might stumble upon a hidden speakeasy, a rooftop bar with a view, or a dance club pulsating with energy.\\n\\n**Comedy Clubs**: If laughter is your thing, you'll find several comedy clubs featuring stand-up comedians, improv, and other forms of comedy.\\n\\n**Food and Drink**: When you need a break from the music and merriment, 6th Street offers a variety of restaurants, food trucks, and cafes serving everything from Tex-Mex to gourmet burgers.\\n\\n**Atmosphere**: The energy on 6th Street is electric, eh! You'll feel the vibe as you stroll along the pedestrian-friendly street, taking in the sights, sounds, and smells of this iconic entertainment district.\\n\\n**Tips and Insights**:\\n\\n* Be prepared for crowds, especially on weekends and during festivals.\\n* Parking can be a challenge, so consider using public parking garages or ride-sharing services.\\n* Dress code is generally casual, but some venues may have specific requirements.\\n* Be respectful of the neighborhood and its residents, as 6th Street is a popular area for both locals and tourists.\\n\\nIf you're looking for a lively, unforgettable night out in Austin, 6th Street is the place to be, eh!\""
      ]
     },
     "execution_count": 7,
     "metadata": {},
     "output_type": "execute_result"
    }
   ],
   "source": [
    "response['content'][0]['text']"
   ]
  },
  {
   "cell_type": "markdown",
   "metadata": {},
   "source": [
    "**Testing the Jamba Instruct Model**"
   ]
  },
  {
   "cell_type": "code",
   "execution_count": 9,
   "metadata": {},
   "outputs": [],
   "source": [
    "state_filename = \"llama3_completions_state.json\"\n",
    "system_prompt = 'You are a helpful assistant that ends responses with the phrase: ya hoser'\n",
    "\n",
    "jamba_instruct_completions = BedrockCompletions(model='ai21.jamba-instruct-v1:0', state_file='jamba_instruct_state.json')"
   ]
  },
  {
   "cell_type": "code",
   "execution_count": 14,
   "metadata": {},
   "outputs": [],
   "source": [
    "response = jamba_instruct_completions.send_message('What can I do there?')"
   ]
  },
  {
   "cell_type": "code",
   "execution_count": 15,
   "metadata": {},
   "outputs": [
    {
     "data": {
      "text/plain": [
       "{'role': 'assistant',\n",
       " 'content': [{'text': \" There are many things to do in Salt Lake City, including visiting the Salt Lake Temple and Temple Square, exploring the Natural History Museum of Utah, hiking in the nearby mountains, and enjoying the city's vibrant arts and culture scene.\"}]}"
      ]
     },
     "execution_count": 15,
     "metadata": {},
     "output_type": "execute_result"
    }
   ],
   "source": [
    "response"
   ]
  },
  {
   "cell_type": "markdown",
   "metadata": {},
   "source": [
    "**Testing the Cohere Command R+ Model**"
   ]
  },
  {
   "cell_type": "code",
   "execution_count": 16,
   "metadata": {},
   "outputs": [],
   "source": [
    "state_filename = \"command_r_plus.state.json\"\n",
    "system_prompt = 'You are a helpful assistant that ends responses with the phrase: ya know'\n",
    "\n",
    "command_instruct_completions = BedrockCompletions(model='cohere.command-r-plus-v1:0', state_file=state_filename)"
   ]
  },
  {
   "cell_type": "code",
   "execution_count": 17,
   "metadata": {},
   "outputs": [],
   "source": [
    "response = command_instruct_completions.send_message('Where can I climb in hueco tanks')"
   ]
  },
  {
   "cell_type": "code",
   "execution_count": 18,
   "metadata": {},
   "outputs": [
    {
     "data": {
      "text/plain": [
       "{'role': 'assistant',\n",
       " 'content': [{'text': \"Hueco Tanks is a historic site and natural area located in El Paso, Texas, that is popular for rock climbing. Here are some areas within Hueco Tanks where you can climb:\\n\\n1. **North Mountain**: This is the most popular area for climbing in Hueco Tanks, with hundreds of established routes ranging from easy to extremely difficult. The rock type is predominantly granite, with many features such as pockets, slabs, and overhangs.\\n\\n2. **East Spur**: This area offers a more secluded climbing experience compared to North Mountain. It features a variety of routes, from slabs to steep overhanging walls, and is known for its unique rock formations.\\n\\n3. **West Mountain**: West Mountain provides a more adventurous climbing experience, as it requires a longer approach hike and has fewer established routes. However, it offers a great selection of traditional climbing routes and some sport climbing as well.\\n\\n4. **The New Basin**: This area is located on the eastern side of Hueco Tanks and offers a mix of sport and traditional climbing routes. It's known for its steep, pocketed walls and scenic surroundings.\\n\\n5. **The Spur**: The Spur is a small but popular climbing area located between North Mountain and East Spur. It features a variety of challenging routes on steep, overhanging walls.\\n\\nIt's important to note that Hueco Tanks is a protected area, and access for climbing is regulated by the Hueco Tanks State Park and Historic Site. You will need to obtain a permit and follow specific rules and regulations for climbing in the park.\"}]}"
      ]
     },
     "execution_count": 18,
     "metadata": {},
     "output_type": "execute_result"
    }
   ],
   "source": [
    "response"
   ]
  },
  {
   "cell_type": "code",
   "execution_count": null,
   "metadata": {},
   "outputs": [],
   "source": []
  }
 ],
 "metadata": {
  "kernelspec": {
   "display_name": "test_environment1",
   "language": "python",
   "name": "python3"
  },
  "language_info": {
   "codemirror_mode": {
    "name": "ipython",
    "version": 3
   },
   "file_extension": ".py",
   "mimetype": "text/x-python",
   "name": "python",
   "nbconvert_exporter": "python",
   "pygments_lexer": "ipython3",
   "version": "3.11.7"
  }
 },
 "nbformat": 4,
 "nbformat_minor": 2
}
