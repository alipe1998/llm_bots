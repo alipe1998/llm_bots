{
 "cells": [
  {
   "cell_type": "markdown",
   "metadata": {},
   "source": [
    "# Testing the ChatGPT Instance\n",
    "\n",
    "This notebook helps test the ChatGPT assisstnant model created by `chatgpt.py`"
   ]
  },
  {
   "cell_type": "code",
   "execution_count": 1,
   "metadata": {},
   "outputs": [],
   "source": [
    "from pathlib import Path\n",
    "import sys\n",
    "\n",
    "ROOT_DIR = Path.cwd().parent\n",
    "sys.path.append(str(ROOT_DIR))\n",
    "\n",
    "from src.chatgpt import GPTAssistant, GPTCompletions"
   ]
  },
  {
   "cell_type": "markdown",
   "metadata": {},
   "source": [
    "**Test ChatGPT Assistant API**\n",
    "\n",
    "This initializes the GPTAssistant class. If there is an assisstant_id and thread_id saved in the `gpt_state/` dir then the previous instance of the model is loaded. "
   ]
  },
  {
   "cell_type": "code",
   "execution_count": 2,
   "metadata": {},
   "outputs": [
    {
     "data": {
      "text/plain": [
       "'\\n# Initialize the assistant\\nassistant = GPTAssistant(\\n    assistant_name=\"Code Assistant\",\\n    instructions=\"You are a helpful assistant that provides information on general topics.\"\\n)\\n\\n# Start the conversation or pick up where the conservation left off\\nresponse = assistant.send_message(\"what is the capital of oregon?\")\\n'"
      ]
     },
     "execution_count": 2,
     "metadata": {},
     "output_type": "execute_result"
    }
   ],
   "source": [
    "'''\n",
    "# Initialize the assistant\n",
    "assistant = GPTAssistant(\n",
    "    assistant_name=\"Code Assistant\",\n",
    "    instructions=\"You are a helpful assistant that provides information on general topics.\"\n",
    ")\n",
    "\n",
    "# Start the conversation or pick up where the conservation left off\n",
    "response = assistant.send_message(\"what is the capital of oregon?\")\n",
    "'''"
   ]
  },
  {
   "cell_type": "markdown",
   "metadata": {},
   "source": [
    "You can see the conversation history of the model by call the `get_message_history()` method."
   ]
  },
  {
   "cell_type": "code",
   "execution_count": 3,
   "metadata": {},
   "outputs": [],
   "source": [
    "#assistant.get_message_history()"
   ]
  },
  {
   "cell_type": "markdown",
   "metadata": {},
   "source": [
    "Get the text from the last message"
   ]
  },
  {
   "cell_type": "code",
   "execution_count": 4,
   "metadata": {},
   "outputs": [],
   "source": [
    "#response.data"
   ]
  },
  {
   "cell_type": "code",
   "execution_count": 5,
   "metadata": {},
   "outputs": [],
   "source": [
    "#text = response.data[0].content[0].text.value\n",
    "#text"
   ]
  },
  {
   "cell_type": "markdown",
   "metadata": {},
   "source": [
    "**Test ChatGPT Completions API**"
   ]
  },
  {
   "cell_type": "code",
   "execution_count": 6,
   "metadata": {},
   "outputs": [],
   "source": [
    "# Initialize the assistant\n",
    "assistant = GPTCompletions(\n",
    "    instructions=\"You are a helpful assistant that provides information on general topics.\"\n",
    ")\n",
    "\n",
    "# Start the conversation or pick up where the conservation left off\n",
    "response = assistant.send_message(\"what is the capital of nevada?\")"
   ]
  },
  {
   "cell_type": "code",
   "execution_count": 7,
   "metadata": {},
   "outputs": [
    {
     "data": {
      "text/plain": [
       "ChatCompletion(id='chatcmpl-9zXD8bKCNfhMe8xvSSLWNXNBBvarx', choices=[Choice(finish_reason='stop', index=0, logprobs=None, message=ChatCompletionMessage(content='The capital of Nevada is Carson City.', refusal=None, role='assistant', function_call=None, tool_calls=None))], created=1724452698, model='gpt-4o-mini-2024-07-18', object='chat.completion', service_tier=None, system_fingerprint='fp_507c9469a1', usage=CompletionUsage(completion_tokens=8, prompt_tokens=77, total_tokens=85))"
      ]
     },
     "execution_count": 7,
     "metadata": {},
     "output_type": "execute_result"
    }
   ],
   "source": [
    "response"
   ]
  },
  {
   "cell_type": "code",
   "execution_count": 8,
   "metadata": {},
   "outputs": [
    {
     "data": {
      "text/plain": [
       "[{'role': 'system',\n",
       "  'content': 'You are a helpful assistant that provides information on general topics.'},\n",
       " {'role': 'user', 'content': 'what is the capital of oregon?'},\n",
       " {'role': 'system', 'content': 'The capital of Oregon is Salem.'},\n",
       " {'role': 'user', 'content': 'what is the capital of oregon?'},\n",
       " {'role': 'system', 'content': 'The capital of Oregon is Salem.'},\n",
       " {'role': 'user', 'content': 'what is the capital of nevada?'},\n",
       " {'role': 'system', 'content': 'The capital of Nevada is Carson City.'}]"
      ]
     },
     "execution_count": 8,
     "metadata": {},
     "output_type": "execute_result"
    }
   ],
   "source": [
    "assistant.get_message_history()"
   ]
  },
  {
   "cell_type": "code",
   "execution_count": null,
   "metadata": {},
   "outputs": [],
   "source": []
  }
 ],
 "metadata": {
  "kernelspec": {
   "display_name": "discord_bot_env",
   "language": "python",
   "name": "python3"
  },
  "language_info": {
   "codemirror_mode": {
    "name": "ipython",
    "version": 3
   },
   "file_extension": ".py",
   "mimetype": "text/x-python",
   "name": "python",
   "nbconvert_exporter": "python",
   "pygments_lexer": "ipython3",
   "version": "3.11.7"
  }
 },
 "nbformat": 4,
 "nbformat_minor": 2
}
